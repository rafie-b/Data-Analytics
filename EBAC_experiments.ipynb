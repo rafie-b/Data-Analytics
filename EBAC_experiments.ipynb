{
  "cells": [
    {
      "cell_type": "markdown",
      "metadata": {
        "colab_type": "text",
        "id": "view-in-github"
      },
      "source": [
        "<a href=\"https://colab.research.google.com/github/rafie-b/EBAC-Profession-Data-Analyst/blob/main/EBAC_experiments.ipynb\" target=\"_parent\"><img src=\"https://colab.research.google.com/assets/colab-badge.svg\" alt=\"Open In Colab\"/></a>"
      ]
    },
    {
      "cell_type": "code",
      "execution_count": null,
      "metadata": {
        "colab": {
          "base_uri": "https://localhost:8080/"
        },
        "id": "8OhrhYhn-NQQ",
        "outputId": "41b25361-9bd6-4538-fda9-25748f2d67c2"
      },
      "outputs": [
        {
          "name": "stdout",
          "output_type": "stream",
          "text": [
            "6\n"
          ]
        }
      ],
      "source": [
        "#test calling the value of a dict's key\n",
        "mydict = {\"cat\":12, \"dog\":6, \"elephant\":23}\n",
        "\n",
        "print(mydict[\"dog\"])"
      ]
    },
    {
      "cell_type": "markdown",
      "metadata": {},
      "source": [
        "\"Table generator, capable of generating the table of any integer between 1 and 10. The user must inform which number he wants to see the table.\"\n",
        "Powered by Bing Chat."
      ]
    },
    {
      "cell_type": "code",
      "execution_count": null,
      "metadata": {
        "colab": {
          "base_uri": "https://localhost:8080/"
        },
        "id": "9UepSqkc3e5g",
        "outputId": "313dede5-7976-4020-837e-480859b79f76"
      },
      "outputs": [
        {
          "name": "stdout",
          "output_type": "stream",
          "text": [
            "Digite um número inteiro entre 1 e 10: 5\n",
            "Tabuada do 5:\n",
            "5 x 1 = 5\n",
            "5 x 2 = 10\n",
            "5 x 3 = 15\n",
            "5 x 4 = 20\n",
            "5 x 5 = 25\n",
            "5 x 6 = 30\n",
            "5 x 7 = 35\n",
            "5 x 8 = 40\n",
            "5 x 9 = 45\n",
            "5 x 10 = 50\n"
          ]
        }
      ],
      "source": [
        "numero = int(input(\"Digite um número inteiro entre 1 e 10: \"))\n",
        "\n",
        "if numero < 1 or numero > 10:\n",
        "    print(\"Número inválido. Tente novamente.\")\n",
        "else:\n",
        "    print(f\"Tabuada do {numero}:\")\n",
        "    for i in range(1, 11):\n",
        "        print(f\"{numero} x {i} = {numero * i}\")"
      ]
    }
  ],
  "metadata": {
    "colab": {
      "authorship_tag": "ABX9TyNmqMeTmvZ2ksXwpTQL+USW",
      "include_colab_link": true,
      "provenance": []
    },
    "kernelspec": {
      "display_name": "Python 3",
      "name": "python3"
    },
    "language_info": {
      "name": "python"
    }
  },
  "nbformat": 4,
  "nbformat_minor": 0
}
