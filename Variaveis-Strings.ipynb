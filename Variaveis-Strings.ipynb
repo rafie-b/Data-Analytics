{
  "cells": [
    {
      "cell_type": "markdown",
      "metadata": {
        "id": "d9jDtUbDOE1-"
      },
      "source": [
        "# Variáveis, Strings, Boleanos, Python\n",
        "Caderno de Desenvolvimento <br>\n",
        "Curadoria de [Rafael Barbosa](https://www.linkedin.com/in/barbosa89/)\n",
        "\n",
        "---"
      ]
    },
    {
      "cell_type": "markdown",
      "metadata": {
        "id": "muD1vxozykSC"
      },
      "source": [
        "## 1\\. Google Colab"
      ]
    },
    {
      "cell_type": "markdown",
      "metadata": {
        "id": "ahrFfCuBxJKs"
      },
      "source": [
        "Crie uma célula de código que escreva o texto \"Olá mundo!\", utilize o comando Python `print`."
      ]
    },
    {
      "cell_type": "code",
      "execution_count": null,
      "metadata": {
        "colab": {
          "base_uri": "https://localhost:8080/"
        },
        "id": "h4xjc90WcK8W",
        "outputId": "6e8de719-2e47-4db2-a2ab-0d07dd3f1e15"
      },
      "outputs": [
        {
          "name": "stdout",
          "output_type": "stream",
          "text": [
            "Olá mundo!\n"
          ]
        }
      ],
      "source": [
        "print( \"Olá mundo!\")"
      ]
    },
    {
      "cell_type": "markdown",
      "metadata": {
        "id": "tFYOPLS3xiwe"
      },
      "source": [
        "## 2\\. Números"
      ]
    },
    {
      "cell_type": "markdown",
      "metadata": {
        "id": "O2G9gt7tx2c-"
      },
      "source": [
        "Preencha as células de código para preencher os valores de (A), (B) e (C) na tabela de ticket médio abaixo:\n",
        "\n",
        "<br>\n",
        "\n",
        "| Dia   | Valor Total Vendas | Qtd Total Vendas | Ticket Medio |\n",
        "|-------|--------------------|------------------|--------------|\n",
        "| 19/01 | (A)                | 3                | 320.52       |\n",
        "| 20/01 | 834.47             | (B)              | 119.21       |\n",
        "| 23/01 | 15378.12           | 5                | (C)          |"
      ]
    },
    {
      "cell_type": "code",
      "execution_count": null,
      "metadata": {
        "colab": {
          "base_uri": "https://localhost:8080/"
        },
        "id": "nsrKH9EizNRD",
        "outputId": "6ee38a2c-5e83-460e-df6c-1271592b86c5"
      },
      "outputs": [
        {
          "name": "stdout",
          "output_type": "stream",
          "text": [
            "51.32666666666666\n"
          ]
        }
      ],
      "source": [
        "# (A)\n",
        "svv_19 = 153.98\n",
        "sqv_19 = 3\n",
        "print(svv_19 / sqv_19)"
      ]
    },
    {
      "cell_type": "code",
      "execution_count": null,
      "metadata": {
        "colab": {
          "base_uri": "https://localhost:8080/"
        },
        "id": "QQ1GBGHJzMmi",
        "outputId": "a285e0ee-b023-4e05-f28a-2e52eea4b7d1"
      },
      "outputs": [
        {
          "name": "stdout",
          "output_type": "stream",
          "text": [
            "48.144285714285715\n"
          ]
        }
      ],
      "source": [
        "# (B)\n",
        "svv_20 = 337.01\n",
        "sqv_20 = 7\n",
        "print(svv_20 / sqv_20)"
      ]
    },
    {
      "cell_type": "code",
      "execution_count": null,
      "metadata": {
        "colab": {
          "base_uri": "https://localhost:8080/"
        },
        "id": "W-li0nSMzKNa",
        "outputId": "a134d3ed-f352-4fcb-e035-cb098b870c88"
      },
      "outputs": [
        {
          "name": "stdout",
          "output_type": "stream",
          "text": [
            "59.065999999999995\n"
          ]
        }
      ],
      "source": [
        "# (C)\n",
        "svv_23 = 295.33\n",
        "sqv_23 = 5\n",
        "print(svv_23 / sqv_23)"
      ]
    },
    {
      "cell_type": "markdown",
      "metadata": {
        "id": "yUJ6kdony6Pr"
      },
      "source": [
        "## 3\\. Strings"
      ]
    },
    {
      "cell_type": "markdown",
      "metadata": {
        "id": "KDuZpg-5zCvO"
      },
      "source": [
        "Aplique três métodos distintos na *string* abaixo, você pode conferir alguns métodos neste [link](https://www.w3schools.com/python/python_ref_string.asp):"
      ]
    },
    {
      "cell_type": "code",
      "execution_count": null,
      "metadata": {
        "colab": {
          "base_uri": "https://localhost:8080/"
        },
        "id": "k9zbyf7BzjKj",
        "outputId": "a9ea1362-c72e-4b37-d2d9-99f3edd1b38a"
      },
      "outputs": [
        {
          "name": "stdout",
          "output_type": "stream",
          "text": [
            "Word \"roda\" shows 4 times.\n",
            "Are all the characters ascii (a-z)? False\n"
          ]
        }
      ],
      "source": [
        "cancao = 'Roda mundo, roda gigante, roda moinho, roda pião.'\n",
        "\n",
        "cancao_casefold = cancao.casefold()\n",
        "print('Word \"roda\" shows', cancao_casefold.count(\"roda\"), \"times.\")\n",
        "print(\"Are all the characters ascii (a-z)?\", cancao.isascii())\n",
        "\n"
      ]
    },
    {
      "cell_type": "markdown",
      "metadata": {
        "id": "guZMHXVq0FnC"
      },
      "source": [
        "Extraia da string abaixo o valor da taxa **selic** na variável `selic` e o valor do **ano** na variavel `ano`. Imprima os valores na tela."
      ]
    },
    {
      "cell_type": "code",
      "execution_count": null,
      "metadata": {
        "colab": {
          "base_uri": "https://localhost:8080/"
        },
        "id": "cbx_P4IQ0agK",
        "outputId": "ebc233ae-7173-4a38-8c0a-679e1da8bedb"
      },
      "outputs": [
        {
          "name": "stdout",
          "output_type": "stream",
          "text": [
            "Selic = 2,75 %\n",
            "Ano = 6\n"
          ]
        }
      ],
      "source": [
        "noticia = 'Selic vai a 2,75% e supera expectativas; é a primeira alta em 6 anos.'\n",
        "\n",
        "#print(noticia.index(\"6\"))\n",
        "\n",
        "selic = noticia[12:16]\n",
        "ano = noticia[62]\n",
        "\n",
        "print(\"Selic =\",selic,\"%\")\n",
        "print(\"Ano =\",ano)"
      ]
    },
    {
      "cell_type": "markdown",
      "metadata": {
        "id": "no8w_Ati01xP"
      },
      "source": [
        "## 4\\. Booleanos"
      ]
    },
    {
      "cell_type": "markdown",
      "metadata": {
        "id": "D_0tC3SC099N"
      },
      "source": [
        "Utilize a tabela da verdade para responder: qual o valor da variável x?\n",
        "\n",
        "R: De acordo com a \"tabela da verdade\", 'not a' torna-se True quando a = False, e sendo b = True o resultado de 'not a & b' é True ou x = True."
      ]
    },
    {
      "cell_type": "markdown",
      "metadata": {
        "id": "CHn4_ahDIAjz"
      },
      "source": [
        "| A        | B        | | | A OR B   | | A AND B  | | NOT A    |\n",
        "|----------|----------|-|-|----------|-|----------|-|----------|\n",
        "| **TRUE** | **TRUE** | | | **TRUE** | | **TRUE** | | FALSE    |\n",
        "| **TRUE** | FALSE    | | | **TRUE** | | FALSE    | | FALSE    |\n",
        "| FALSE    | FALSE    | | | FALSE    | | FALSE    | | **TRUE** |\n",
        "| FALSE    | **TRUE** | | | **TRUE** | | FALSE    | | **TRUE** |"
      ]
    },
    {
      "cell_type": "code",
      "execution_count": null,
      "metadata": {
        "colab": {
          "base_uri": "https://localhost:8080/"
        },
        "id": "XwIEbxf91SpU",
        "outputId": "b730472c-4a00-4d0b-c23c-a824bf49daba"
      },
      "outputs": [
        {
          "name": "stdout",
          "output_type": "stream",
          "text": [
            "x = True\n"
          ]
        }
      ],
      "source": [
        "a = False\n",
        "b = True\n",
        "\n",
        "x = not a & b\n",
        "\n",
        "print(\"x =\",x)"
      ]
    }
  ],
  "metadata": {
    "colab": {
      "provenance": []
    },
    "kernelspec": {
      "display_name": "Python 3",
      "name": "python3"
    }
  },
  "nbformat": 4,
  "nbformat_minor": 0
}
