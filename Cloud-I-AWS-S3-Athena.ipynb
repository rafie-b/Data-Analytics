{
  "cells": [
    {
      "cell_type": "markdown",
      "metadata": {
        "id": "KJqp9AANOCtf"
      },
      "source": [
        "# AWS S3+Athena Cloud Computing\n",
        "Caderno de Desenvolvimento <br>\n",
        "Curadoria de [Rafael Barbosa](https://www.linkedin.com/in/barbosa89/)\n",
        "\n",
        "---"
      ]
    },
    {
      "cell_type": "markdown",
      "metadata": {
        "id": "ne7Ay0HKaGSv"
      },
      "source": [
        "## 1\\. Amazon Web Services"
      ]
    },
    {
      "cell_type": "markdown",
      "metadata": {
        "id": "OQxOVktrzG9I"
      },
      "source": [
        " 1. Crie uma conta na [AWS](https://portal.aws.amazon.com/);\n",
        " 1. Acesse a sua conta e selecione a região mais próxima da sua residência."
      ]
    },
    {
      "cell_type": "markdown",
      "metadata": {
        "id": "EvJTE2FpaGeU"
      },
      "source": [
        "## 2\\. AWS S3"
      ]
    },
    {
      "cell_type": "markdown",
      "metadata": {
        "id": "ISYXZbomlb1x"
      },
      "source": [
        " - Criar um *bucket*;\n",
        " - Inserir um objeto no *bucket*.\n",
        "\n",
        "![](https://github.com/rafie-b/Data-Analytics/blob/main/repo-Cloud-I-AWS-S3-Athena/s3-load-csv.png?raw=true)"
      ]
    },
    {
      "cell_type": "markdown",
      "metadata": {
        "id": "oVejInuPakz5"
      },
      "source": [
        "## 3\\. AWS Athena"
      ]
    },
    {
      "cell_type": "markdown",
      "metadata": {
        "id": "CZbuPphXakz7"
      },
      "source": [
        " - Criar um *bucket* no AWS [S3](https://aws.amazon.com/pt/s3/) para armazenar os resultados;\n",
        " - Configurar o AWS [Athena](https://aws.amazon.com/pt/athena/) para utilizar o *bucket* criado;\n",
        "\n",
        " ![](https://github.com/rafie-b/Data-Analytics/blob/main/repo-Cloud-I-AWS-S3-Athena/s3-bucket-config.png?raw=true)\n",
        "\n",
        " - Criar uma tabela (com SQL) utilizando o *bucket* da aula 3, item 3.3;\n",
        "\n",
        "![](https://github.com/rafie-b/Data-Analytics/blob/main/repo-Cloud-I-AWS-S3-Athena/athena-create-table.png?raw=true)\n",
        "\n",
        " - Executar uma consulta SQL.\n",
        "\n",
        " ![](https://github.com/rafie-b/Data-Analytics/blob/main/repo-Cloud-I-AWS-S3-Athena/athena-select-all.png?raw=true)\n",
        "\n",
        " ![](https://github.com/rafie-b/Data-Analytics/blob/main/repo-Cloud-I-AWS-S3-Athena/athena-avg-groupby-specie.png?raw=true)"
      ]
    }
  ],
  "metadata": {
    "colab": {
      "collapsed_sections": [
        "JG1HL69-j0lH",
        "s_Dj-BgThLg5",
        "jeEzLmuRhDQy",
        "PoTeRwlihDQ0",
        "QpMlxqRyhDQ1",
        "ov7Fg-mWhDQ1",
        "DvHPNAoPgdiG",
        "3SMp5GwjglJm",
        "e3ieQfXTgqd3",
        "L0pKWNr5fm9z",
        "DMhCpOU_gupo",
        "l3h0WP2Eg2ht",
        "rWG4Vk6XaWtf",
        "wkibgd8rB8y3",
        "IjPaJtnYE0MI",
        "2lpj1rszc--m",
        "HnWg_mhLd5gC",
        "RhqmXiHQo-is",
        "SvT9xrajLL7J",
        "91eSyA2cLLqv"
      ],
      "provenance": []
    },
    "kernelspec": {
      "display_name": "Python 3",
      "name": "python3"
    }
  },
  "nbformat": 4,
  "nbformat_minor": 0
}
